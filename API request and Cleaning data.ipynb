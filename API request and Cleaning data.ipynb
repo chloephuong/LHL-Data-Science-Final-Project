{
 "cells": [
  {
   "attachments": {},
   "cell_type": "markdown",
   "metadata": {},
   "source": [
    "## Final Project\n",
    "### Data Science LHL Project: Restaurant Reccomenation system"
   ]
  },
  {
   "attachments": {},
   "cell_type": "markdown",
   "metadata": {},
   "source": [
    "By: Chloe Phuong"
   ]
  },
  {
   "cell_type": "code",
   "execution_count": 4,
   "metadata": {},
   "outputs": [],
   "source": [
    "import numpy as np\n",
    "import pandas as pd\n",
    "import requests"
   ]
  },
  {
   "cell_type": "code",
   "execution_count": null,
   "metadata": {},
   "outputs": [],
   "source": [
    "import seaborn as sb\n",
    "import matplotlib.pyplot as plt\n",
    "import seaborn as sns\n",
    "from sklearn.linear_model import LogisticRegression\n",
    "from sklearn.linear_model import LinearRegression\n",
    "from sklearn.model_selection import train_test_split\n",
    "from sklearn.metrics import classification_report\n",
    "from sklearn.metrics import confusion_matrix\n",
    "from sklearn.metrics import r2_score\n",
    "import warnings\n",
    "warnings.filterwarnings('always')\n",
    "warnings.filterwarnings('ignore')\n",
    "import re\n",
    "from nltk.corpus import stopwords\n",
    "from sklearn.metrics.pairwise import linear_kernel\n",
    "from sklearn.feature_extraction.text import CountVectorizer\n",
    "from sklearn.feature_extraction.text import TfidfVectorizer"
   ]
  },
  {
   "attachments": {},
   "cell_type": "markdown",
   "metadata": {},
   "source": [
    "#### Request API"
   ]
  },
  {
   "cell_type": "code",
   "execution_count": 27,
   "metadata": {},
   "outputs": [],
   "source": [
    "API_key = 'qekbhZMmgf57ynmxgZU-d7KA7OSmD-7BjDKsYH3hpcq-QBW2DgnDaQ-tA788OeYrgu_TLbmQKzx6NbyBStHJ-CvOyo3Go1Ok9aM458sYJ_AtBFdb6f1K9h9f1xB8ZHYx'\n",
    "url = 'https://api.yelp.com/v3/businesses/search'\n",
    "radius = 10000  # Radius in meters\n",
    "limit = 100\n",
    "\n",
    "params = {\n",
    "    'categories': 'restaurants',\n",
    "    'radius': radius,\n",
    "    'limit': limit\n",
    "}\n",
    "headers = {\n",
    "    'Authorization': f'Bearer {API_key}'\n",
    "}\n",
    "\n",
    "# Send API request to Yelp\n",
    "response = requests.get(url, params=params, headers=headers)"
   ]
  },
  {
   "cell_type": "code",
   "execution_count": null,
   "metadata": {},
   "outputs": [],
   "source": [
    "\n",
    "\n",
    "    # Iterate over each business and extract the details\n",
    "    for business in businesses:\n",
    "        name = business['name']\n",
    "        location = ', '.join(business['location']['display_address'])\n",
    "        latitude = business['coordinates']['latitude']\n",
    "        longitude = business['coordinates']['longitude']\n",
    "        rating = business['rating']\n",
    "\n",
    "        # Create a dictionary with the restaurant details\n",
    "        restaurant = {\n",
    "            'Station ID': station_id,\n",
    "            'Restaurant name': name,\n",
    "            'Location': location,\n",
    "            'Latitude': latitude,\n",
    "            'Longitude': longitude,\n",
    "            'Rating': rating\n",
    "        }\n",
    "\n",
    "        # Append the restaurant details to the list\n",
    "        y_rest_details.append(restaurant)"
   ]
  },
  {
   "cell_type": "code",
   "execution_count": 15,
   "metadata": {},
   "outputs": [
    {
     "name": "stdout",
     "output_type": "stream",
     "text": [
      "No businesses found.\n"
     ]
    }
   ],
   "source": [
    "# Extract relevant information from the response and create a DataFrame\n",
    "if 'businesses' in data:\n",
    "    businesses = data['businesses']\n",
    "    df = pd.DataFrame(businesses, columns=['id', 'name', 'location', 'rating', 'review_count', 'is_open', 'attributes', 'categories', 'hours'])\n",
    "\n",
    "    # Split the 'location' column into separate columns for address, city, postal code, latitude, and longitude\n",
    "    df[['address', 'city', 'postal_code', 'latitude', 'longitude']] = df['location'].apply(pd.Series)[['address1', 'city', 'zip_code', 'latitude', 'longitude']]\n",
    "\n",
    "    # Drop the 'location' column\n",
    "    df.drop('location', axis=1, inplace=True)\n",
    "\n",
    "    # Rename columns\n",
    "    df.rename(columns={'id': 'business_id', 'rating': 'stars'}, inplace=True)\n",
    "\n",
    "    # Print the DataFrame\n",
    "    print(df)\n",
    "else:\n",
    "    print('No businesses found.')"
   ]
  },
  {
   "cell_type": "code",
   "execution_count": null,
   "metadata": {},
   "outputs": [],
   "source": []
  },
  {
   "cell_type": "code",
   "execution_count": null,
   "metadata": {},
   "outputs": [],
   "source": []
  },
  {
   "cell_type": "code",
   "execution_count": null,
   "metadata": {},
   "outputs": [],
   "source": []
  },
  {
   "cell_type": "code",
   "execution_count": null,
   "metadata": {},
   "outputs": [],
   "source": []
  }
 ],
 "metadata": {
  "kernelspec": {
   "display_name": "the_one",
   "language": "python",
   "name": "the_one"
  },
  "language_info": {
   "codemirror_mode": {
    "name": "ipython",
    "version": 3
   },
   "file_extension": ".py",
   "mimetype": "text/x-python",
   "name": "python",
   "nbconvert_exporter": "python",
   "pygments_lexer": "ipython3",
   "version": "3.10.9"
  },
  "orig_nbformat": 4
 },
 "nbformat": 4,
 "nbformat_minor": 2
}
